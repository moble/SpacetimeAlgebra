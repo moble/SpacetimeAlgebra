{
 "metadata": {
  "name": "",
  "signature": "sha256:b9a434dcc52bdeec171d2989879e6ce8bbefb45fb6d3b6480f3fcb4419cf7187"
 },
 "nbformat": 3,
 "nbformat_minor": 0,
 "worksheets": [
  {
   "cells": [
    {
     "cell_type": "code",
     "collapsed": false,
     "input": [
      "import spacetime\n",
      "\n",
      "I = spacetime.mv()\n",
      "I.set_gamma_0_gamma_1_gamma_2_gamma_3(1.0)\n",
      "One = spacetime.mv()\n",
      "One.set_scalar(1.0)\n",
      "\n",
      "t = spacetime.mv(); x = spacetime.mv(); y=spacetime.mv(); z=spacetime.mv();\n",
      "t.set_gamma_0(1); x.set_gamma_1(1); y.set_gamma_2(1); z.set_gamma_3(1);\n",
      "\n",
      "beta = 0.5\n",
      "alpha = arctanh(beta)\n",
      "gamma = 1./sqrt(1-beta**2)\n",
      "delta = pi/5.3\n",
      "B = spacetime.mv()\n",
      "B.set_gamma_1_gamma_2(1.);\n",
      "\n",
      "print(spacetime.exp(-alpha*spacetime.dual(B)/2.)*spacetime.exp(-delta*B/2.))\n",
      "print(spacetime.exp(-alpha*spacetime.dual(B)/2. - delta*B/2.))"
     ],
     "language": "python",
     "metadata": {},
     "outputs": [
      {
       "output_type": "stream",
       "stream": "stdout",
       "text": [
        "0.992701039507063 - 0.303141741354143*gamma_1^gamma_2 - 0.265993441861454*gamma_0^gamma_3 + 0.081226584788007*gamma_0^gamma_1^gamma_2^gamma_3\n",
        "0.9938040001142 - 0.295764295619267*gamma_1^gamma_2 - 0.274085587373991*gamma_0^gamma_3\n"
       ]
      }
     ],
     "prompt_number": 1
    },
    {
     "cell_type": "code",
     "collapsed": false,
     "input": [
      "R = spacetime.exp(-alpha*spacetime.dual(B)/2.)*spacetime.exp(-delta*B/2.)\n",
      "print(B)\n",
      "print(R)"
     ],
     "language": "python",
     "metadata": {},
     "outputs": [
      {
       "output_type": "stream",
       "stream": "stdout",
       "text": [
        " 1*gamma_1^gamma_2\n",
        "0.992701039507063 - 0.303141741354143*gamma_1^gamma_2 - 0.265993441861454*gamma_0^gamma_3 + 0.081226584788007*gamma_0^gamma_1^gamma_2^gamma_3\n"
       ]
      }
     ],
     "prompt_number": 2
    },
    {
     "cell_type": "code",
     "collapsed": false,
     "input": [
      "spacetime.dual(B)"
     ],
     "language": "python",
     "metadata": {},
     "outputs": [
      {
       "metadata": {},
       "output_type": "pyout",
       "prompt_number": 3,
       "text": [
        " 1*gamma_0^gamma_3"
       ]
      }
     ],
     "prompt_number": 3
    },
    {
     "cell_type": "code",
     "collapsed": false,
     "input": [
      "exponent = -alpha*spacetime.dual(B)/2. - delta*B/2.\n",
      "print(exponent)"
     ],
     "language": "python",
     "metadata": {},
     "outputs": [
      {
       "output_type": "stream",
       "stream": "stdout",
       "text": [
        " - 0.296376665432999*gamma_1^gamma_2 - 0.274653072167027*gamma_0^gamma_3\n"
       ]
      }
     ],
     "prompt_number": 4
    },
    {
     "cell_type": "code",
     "collapsed": false,
     "input": [
      "from math import factorial\n",
      "def powtmp(tmp,i):\n",
      "    c=spacetime.mv()\n",
      "    c.set_scalar(1.0)\n",
      "    for i in range(i):\n",
      "        c = c*tmp\n",
      "    return c\n",
      "def exp(B):\n",
      "    exptmp = spacetime.mv()\n",
      "    for i in range(40):\n",
      "        exptmp = exptmp + powtmp(B,i)/factorial(i)\n",
      "    return exptmp"
     ],
     "language": "python",
     "metadata": {},
     "outputs": [],
     "prompt_number": 43
    },
    {
     "cell_type": "code",
     "collapsed": false,
     "input": [
      "exp(exponent)"
     ],
     "language": "python",
     "metadata": {},
     "outputs": [
      {
       "metadata": {},
       "output_type": "pyout",
       "prompt_number": 6,
       "text": [
        "0.992701039507063 - 0.303141741354143*gamma_1^gamma_2 - 0.265993441861454*gamma_0^gamma_3 + 0.081226584788007*gamma_0^gamma_1^gamma_2^gamma_3"
       ]
      }
     ],
     "prompt_number": 6
    },
    {
     "cell_type": "code",
     "collapsed": false,
     "input": [
      "print(spacetime.exp(-B))\n",
      "print(delta*One/2.+alpha*I/2.)\n",
      "print(spacetime.exp(-B)*(delta*One/2.+alpha*I/2.))"
     ],
     "language": "python",
     "metadata": {},
     "outputs": [
      {
       "output_type": "stream",
       "stream": "stdout",
       "text": [
        "0.54030230586814 - 0.841470984807897*gamma_1^gamma_2\n",
        "0.296376665432999 + 0.274653072167027*gamma_0^gamma_1^gamma_2^gamma_3\n",
        "0.16013299573896 - 0.249392364535986*gamma_1^gamma_2 + 0.231112591116903*gamma_0^gamma_3 + 0.148395688205614*gamma_0^gamma_1^gamma_2^gamma_3\n"
       ]
      }
     ],
     "prompt_number": 7
    },
    {
     "cell_type": "code",
     "collapsed": false,
     "input": [
      "alpha"
     ],
     "language": "python",
     "metadata": {},
     "outputs": [
      {
       "metadata": {},
       "output_type": "pyout",
       "prompt_number": 8,
       "text": [
        "0.54930614433405489"
       ]
      }
     ],
     "prompt_number": 8
    },
    {
     "cell_type": "code",
     "collapsed": false,
     "input": [
      "spacetime.exp(1.2*(t^z)+3.4*(x^y))"
     ],
     "language": "python",
     "metadata": {},
     "outputs": [
      {
       "metadata": {},
       "output_type": "pyout",
       "prompt_number": 13,
       "text": [
        " - 0.999215939692778 - 0.0423148930818164*gamma_1^gamma_2 - 0.0149346681465234*gamma_0^gamma_3"
       ]
      }
     ],
     "prompt_number": 13
    },
    {
     "cell_type": "code",
     "collapsed": false,
     "input": [
      "tmp=spacetime.exp(3.4*(t^z))*spacetime.exp(1.2*(x^y))\n",
      "print(spacetime.exp(1.2*(x^y))*spacetime.exp(3.4*(t^z)))\n",
      "print(tmp)\n",
      "print(exp(1.2*(x^y)+3.4*(t^z)))\n",
      "print(spacetime.exp(1.2*(x^y)+3.4*(t^z)))"
     ],
     "language": "python",
     "metadata": {},
     "outputs": [
      {
       "output_type": "stream",
       "stream": "stdout",
       "text": [
        "5.43490853562577 + 13.979408806018*gamma_1^gamma_2 + 5.4228154724634*gamma_0^gamma_3 + 13.9483036139884*gamma_0^gamma_1^gamma_2^gamma_3\n",
        "5.43490853562577 + 13.979408806018*gamma_1^gamma_2 + 5.4228154724634*gamma_0^gamma_3 + 13.9483036139884*gamma_0^gamma_1^gamma_2^gamma_3\n",
        "5.43490853562577 + 13.979408806018*gamma_1^gamma_2 + 5.4228154724634*gamma_0^gamma_3 + 13.9483036139884*gamma_0^gamma_1^gamma_2^gamma_3\n",
        "12.0585182195763 + 4.53300719469329*gamma_1^gamma_2 + 12.8435203849643*gamma_0^gamma_3\n"
       ]
      }
     ],
     "prompt_number": 45
    },
    {
     "cell_type": "code",
     "collapsed": false,
     "input": [
      "tmp.toString(\"%2.4g\")"
     ],
     "language": "python",
     "metadata": {},
     "outputs": [
      {
       "metadata": {},
       "output_type": "pyout",
       "prompt_number": 46,
       "text": [
        "'5.435 + 13.98*gamma_1^gamma_2 + 5.423*gamma_0^gamma_3 + 13.95*gamma_0^gamma_1^gamma_2^gamma_3'"
       ]
      }
     ],
     "prompt_number": 46
    },
    {
     "cell_type": "code",
     "collapsed": false,
     "input": [
      "a=spacetime.exp(1.2*(t^z))\n",
      "b=spacetime.exp(3.4*(x^y))\n",
      "print(a,b)"
     ],
     "language": "python",
     "metadata": {},
     "outputs": [
      {
       "output_type": "stream",
       "stream": "stdout",
       "text": [
        "(1.81065556732437 + 1.50946135541217*gamma_0^gamma_3,  - 0.966798192579461 - 0.255541102026831*gamma_1^gamma_2)\n"
       ]
      }
     ],
     "prompt_number": 25
    },
    {
     "cell_type": "code",
     "collapsed": false,
     "input": [
      "cosh(1.2),sinh(1.2),cos(3.4),sin(3.4)"
     ],
     "language": "python",
     "metadata": {},
     "outputs": [
      {
       "metadata": {},
       "output_type": "pyout",
       "prompt_number": 21,
       "text": [
        "(1.8106555673243747,\n",
        " 1.5094613554121725,\n",
        " -0.96679819257946109,\n",
        " -0.25554110202683122)"
       ]
      }
     ],
     "prompt_number": 21
    },
    {
     "cell_type": "code",
     "collapsed": false,
     "input": [
      "tz=t^z\n",
      "xy=x^y\n",
      "print(tz,xy)"
     ],
     "language": "python",
     "metadata": {},
     "outputs": [
      {
       "output_type": "stream",
       "stream": "stdout",
       "text": [
        "( 1*gamma_0^gamma_3,  1*gamma_1^gamma_2)\n"
       ]
      }
     ],
     "prompt_number": 30
    },
    {
     "cell_type": "code",
     "collapsed": false,
     "input": [
      "print(spacetime.exp(1.2*tz), cosh(1.2), sinh(1.2))"
     ],
     "language": "python",
     "metadata": {},
     "outputs": [
      {
       "output_type": "stream",
       "stream": "stdout",
       "text": [
        "(1.81065556732437 + 1.50946135541217*gamma_0^gamma_3, 1.8106555673243747, 1.5094613554121725)\n"
       ]
      }
     ],
     "prompt_number": 29
    },
    {
     "cell_type": "code",
     "collapsed": false,
     "input": [
      "c=spacetime.exp(1.2*tz)\n",
      "d=spacetime.exp(3.4*xy)"
     ],
     "language": "python",
     "metadata": {},
     "outputs": [],
     "prompt_number": 32
    },
    {
     "cell_type": "code",
     "collapsed": false,
     "input": [
      "c*d"
     ],
     "language": "python",
     "metadata": {},
     "outputs": [
      {
       "metadata": {},
       "output_type": "pyout",
       "prompt_number": 33,
       "text": [
        " - 1.75053852987314 - 0.462696919065088*gamma_1^gamma_2 - 1.45934451018103*gamma_0^gamma_3 - 0.385729418228941*gamma_0^gamma_1^gamma_2^gamma_3"
       ]
      }
     ],
     "prompt_number": 33
    },
    {
     "cell_type": "code",
     "collapsed": false,
     "input": [
      "xy*tz, tz*xy"
     ],
     "language": "python",
     "metadata": {},
     "outputs": [
      {
       "metadata": {},
       "output_type": "pyout",
       "prompt_number": 48,
       "text": [
        "( 1*gamma_0^gamma_1^gamma_2^gamma_3,  1*gamma_0^gamma_1^gamma_2^gamma_3)"
       ]
      }
     ],
     "prompt_number": 48
    },
    {
     "cell_type": "markdown",
     "metadata": {},
     "source": [
      "We need to create rotors that rotate our tetrad appropriately to $(\\vartheta, \\varphi)$.  The following function should do the trick, and the cell below it shows that the result agrees with the usual explicit formula for the location of that point to within roundoff."
     ]
    },
    {
     "cell_type": "code",
     "collapsed": false,
     "input": [
      "def Rthetaphi(theta, phi):\n",
      "    Rphi = spacetime.exp(phi*(y^x)/2.)\n",
      "    Rtheta = spacetime.exp(theta*(x^z)/2.)\n",
      "    return Rphi*Rtheta"
     ],
     "language": "python",
     "metadata": {},
     "outputs": []
    },
    {
     "cell_type": "code",
     "collapsed": false,
     "input": [
      "import random\n",
      "N=10000\n",
      "max([spacetime.norm(R*z*spacetime.reverse(R) - (sin(theta)*cos(phi)*x + sin(theta)*sin(phi)*y + cos(theta)*z))\n",
      " for theta,phi in zip([random.random() for i in range(N)], [random.random() for i in range(N)])\n",
      " for R in [Rthetaphi(theta,phi)] ])"
     ],
     "language": "python",
     "metadata": {},
     "outputs": [
      {
       "metadata": {},
       "output_type": "pyout",
       "prompt_number": 60,
       "text": [
        "1.11886302282795e-16"
       ]
      }
     ],
     "prompt_number": 60
    },
    {
     "cell_type": "markdown",
     "metadata": {},
     "source": [
      "The previous cell shows that we have the correct result for $r = R\\,z\\,\\bar{R}$.  Now we need to check it for the $\\theta = R\\, x\\, \\bar{R}$ and $\\phi = R\\, y\\, \\bar{R}$ vectors."
     ]
    },
    {
     "cell_type": "code",
     "collapsed": false,
     "input": [
      "N=2000\n",
      "max([spacetime.norm(R*x*spacetime.reverse(R) - (cos(theta)*cos(phi)*x + cos(theta)*sin(phi)*y - sin(theta)*z))\n",
      " for theta,phi in zip([random.random() for i in range(N)], [random.random() for i in range(N)])\n",
      " for R in [Rthetaphi(theta,phi)] ])"
     ],
     "language": "python",
     "metadata": {},
     "outputs": [
      {
       "metadata": {},
       "output_type": "pyout",
       "prompt_number": 61,
       "text": [
        "5.55111512312578e-17"
       ]
      }
     ],
     "prompt_number": 61
    },
    {
     "cell_type": "code",
     "collapsed": false,
     "input": [
      "max([spacetime.norm(R*y*spacetime.reverse(R) - (-sin(phi)*x + cos(phi)*y))\n",
      " for theta,phi in zip([random.random() for i in range(N)], [random.random() for i in range(N)])\n",
      " for R in [Rthetaphi(theta,phi)] ])"
     ],
     "language": "python",
     "metadata": {},
     "outputs": [
      {
       "metadata": {},
       "output_type": "pyout",
       "prompt_number": 62,
       "text": [
        "5.55111512312578e-17"
       ]
      }
     ],
     "prompt_number": 62
    },
    {
     "cell_type": "markdown",
     "metadata": {},
     "source": [
      "And so, we find that the rotors given by `Rthetaphi` are entirely in agreement with our expectations for the standard spherical-coordinate tetrad."
     ]
    },
    {
     "cell_type": "code",
     "collapsed": false,
     "input": [],
     "language": "python",
     "metadata": {},
     "outputs": []
    },
    {
     "cell_type": "code",
     "collapsed": false,
     "input": [],
     "language": "python",
     "metadata": {},
     "outputs": []
    },
    {
     "cell_type": "code",
     "collapsed": false,
     "input": [],
     "language": "python",
     "metadata": {},
     "outputs": []
    },
    {
     "cell_type": "code",
     "collapsed": false,
     "input": [],
     "language": "python",
     "metadata": {},
     "outputs": []
    }
   ],
   "metadata": {}
  }
 ]
}