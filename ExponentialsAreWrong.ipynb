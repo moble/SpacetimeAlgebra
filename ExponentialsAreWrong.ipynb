{
 "metadata": {
  "name": "",
  "signature": "sha256:dae64b5c7b2a1c8f39cbbb2b3462a829d1616f14f4246cacbb5330554e56430f"
 },
 "nbformat": 3,
 "nbformat_minor": 0,
 "worksheets": [
  {
   "cells": [
    {
     "cell_type": "markdown",
     "metadata": {},
     "source": [
      "I have some concerns about certain results I saw in my initial tests of the Gaigen code (via python).  Any problems should be simple enough to diagnose."
     ]
    },
    {
     "cell_type": "code",
     "collapsed": false,
     "input": [
      "import spacetime"
     ],
     "language": "python",
     "metadata": {},
     "outputs": [],
     "prompt_number": 2
    },
    {
     "cell_type": "markdown",
     "metadata": {},
     "source": [
      "First, construct the usual basis vectors"
     ]
    },
    {
     "cell_type": "code",
     "collapsed": false,
     "input": [
      "t = spacetime.mv(); x = spacetime.mv(); y=spacetime.mv(); z=spacetime.mv();\n",
      "t.set_gamma_0(1); x.set_gamma_1(1); y.set_gamma_2(1); z.set_gamma_3(1);"
     ],
     "language": "python",
     "metadata": {},
     "outputs": [],
     "prompt_number": 3
    },
    {
     "cell_type": "markdown",
     "metadata": {},
     "source": [
      "Next, look at the various products between them"
     ]
    },
    {
     "cell_type": "code",
     "collapsed": false,
     "input": [
      "names = ['t','x','y','z']\n",
      "for i,v in enumerate([t,x,y,z]):\n",
      "    for j,w in enumerate([t,x,y,z]):\n",
      "        print(\"{0}%{1}={2}, {0}^{1}={3}, {0}*{1}={4}\".format(names[i], names[j], v%w, v^w, v*w))"
     ],
     "language": "python",
     "metadata": {},
     "outputs": [
      {
       "output_type": "stream",
       "stream": "stdout",
       "text": [
        "t%t= -  1, t^t=0, t*t= -  1\n",
        "t%x=0, t^x= 1*gamma_0^gamma_1, t*x= 1*gamma_0^gamma_1\n",
        "t%y=0, t^y= 1*gamma_0^gamma_2, t*y= 1*gamma_0^gamma_2\n",
        "t%z=0, t^z= 1*gamma_0^gamma_3, t*z= 1*gamma_0^gamma_3\n",
        "x%t=0, x^t= -  1*gamma_0^gamma_1, x*t= -  1*gamma_0^gamma_1\n",
        "x%x= 1, x^x=0, x*x= 1\n",
        "x%y=0, x^y= 1*gamma_1^gamma_2, x*y= 1*gamma_1^gamma_2\n",
        "x%z=0, x^z= 1*gamma_1^gamma_3, x*z= 1*gamma_1^gamma_3\n",
        "y%t=0, y^t= -  1*gamma_0^gamma_2, y*t= -  1*gamma_0^gamma_2\n",
        "y%x=0, y^x= -  1*gamma_1^gamma_2, y*x= -  1*gamma_1^gamma_2\n",
        "y%y= 1, y^y=0, y*y= 1\n",
        "y%z=0, y^z= 1*gamma_2^gamma_3, y*z= 1*gamma_2^gamma_3\n",
        "z%t=0, z^t= -  1*gamma_0^gamma_3, z*t= -  1*gamma_0^gamma_3\n",
        "z%x=0, z^x= -  1*gamma_1^gamma_3, z*x= -  1*gamma_1^gamma_3\n",
        "z%y=0, z^y= -  1*gamma_2^gamma_3, z*y= -  1*gamma_2^gamma_3\n",
        "z%z= 1, z^z=0, z*z= 1\n"
       ]
      }
     ],
     "prompt_number": 4
    },
    {
     "cell_type": "markdown",
     "metadata": {},
     "source": [
      "That all looks good.  But the problems I noticed seemed to have to do with `exp`.  So let's try out some important operations."
     ]
    },
    {
     "cell_type": "code",
     "collapsed": false,
     "input": [
      "B = spacetime.mv();\n",
      "B.set_gamma_1_gamma_2(pi/4.)\n",
      "R = spacetime.exp(-B)\n",
      "print(R)"
     ],
     "language": "python",
     "metadata": {},
     "outputs": [
      {
       "output_type": "stream",
       "stream": "stdout",
       "text": [
        "0.707106781186548 - 0.707106781186547*gamma_1^gamma_2\n"
       ]
      }
     ],
     "prompt_number": 5
    },
    {
     "cell_type": "code",
     "collapsed": false,
     "input": [
      "for v in [t,x,y,z]:\n",
      "    print(R*v*spacetime.reverse(R))"
     ],
     "language": "python",
     "metadata": {},
     "outputs": [
      {
       "output_type": "stream",
       "stream": "stdout",
       "text": [
        " 1*gamma_0\n",
        "2.22044604925031e-16*gamma_1 +  1*gamma_2\n",
        " -  1*gamma_1 + 2.22044604925031e-16*gamma_2\n",
        " 1*gamma_3\n"
       ]
      }
     ],
     "prompt_number": 6
    },
    {
     "cell_type": "markdown",
     "metadata": {},
     "source": [
      "Here, $R$ represents a rotation by $\\pi/2$ about the $z$ axis.  And we set that it behaves appropriately when rotating any of the basis vectors.  Let's see if we just combine any two of the basis vectors."
     ]
    },
    {
     "cell_type": "code",
     "collapsed": false,
     "input": [
      "for i,v in enumerate([t,x,y,z]):\n",
      "    for j,w in enumerate([t,x,y,z]):\n",
      "        u = (v+w)/sqrt(2)\n",
      "        print(\"v=({0}+{1})/sqrt(2)={2}\\tR*u*Rbar={3}\".format(names[i], names[j], u, R*u*spacetime.reverse(R)))"
     ],
     "language": "python",
     "metadata": {},
     "outputs": [
      {
       "output_type": "stream",
       "stream": "stdout",
       "text": [
        "v=(t+t)/sqrt(2)=1.41421356237309*gamma_0\tR*u*Rbar=1.41421356237309*gamma_0\n",
        "v=(t+x)/sqrt(2)=0.707106781186547*gamma_0 + 0.707106781186547*gamma_1\tR*u*Rbar=0.707106781186547*gamma_0 + 1.11022302462516e-16*gamma_1 + 0.707106781186547*gamma_2\n",
        "v=(t+y)/sqrt(2)=0.707106781186547*gamma_0 + 0.707106781186547*gamma_2\tR*u*Rbar=0.707106781186547*gamma_0 - 0.707106781186547*gamma_1 + 1.11022302462516e-16*gamma_2\n",
        "v=(t+z)/sqrt(2)=0.707106781186547*gamma_0 + 0.707106781186547*gamma_3\tR*u*Rbar=0.707106781186547*gamma_0 + 0.707106781186547*gamma_3\n",
        "v=(x+t)/sqrt(2)=0.707106781186547*gamma_0 + 0.707106781186547*gamma_1\tR*u*Rbar=0.707106781186547*gamma_0 + 1.11022302462516e-16*gamma_1 + 0.707106781186547*gamma_2\n",
        "v=(x+x)/sqrt(2)=1.41421356237309*gamma_1\tR*u*Rbar=2.22044604925031e-16*gamma_1 + 1.41421356237309*gamma_2\n",
        "v=(x+y)/sqrt(2)=0.707106781186547*gamma_1 + 0.707106781186547*gamma_2\tR*u*Rbar= - 0.707106781186547*gamma_1 + 0.707106781186548*gamma_2\n",
        "v=(x+z)/sqrt(2)=0.707106781186547*gamma_1 + 0.707106781186547*gamma_3\tR*u*Rbar=1.11022302462516e-16*gamma_1 + 0.707106781186547*gamma_2 + 0.707106781186547*gamma_3\n",
        "v=(y+t)/sqrt(2)=0.707106781186547*gamma_0 + 0.707106781186547*gamma_2\tR*u*Rbar=0.707106781186547*gamma_0 - 0.707106781186547*gamma_1 + 1.11022302462516e-16*gamma_2\n",
        "v=(y+x)/sqrt(2)=0.707106781186547*gamma_1 + 0.707106781186547*gamma_2\tR*u*Rbar= - 0.707106781186547*gamma_1 + 0.707106781186548*gamma_2\n",
        "v=(y+y)/sqrt(2)=1.41421356237309*gamma_2\tR*u*Rbar= - 1.41421356237309*gamma_1 + 2.22044604925031e-16*gamma_2\n",
        "v=(y+z)/sqrt(2)=0.707106781186547*gamma_2 + 0.707106781186547*gamma_3\tR*u*Rbar= - 0.707106781186547*gamma_1 + 1.11022302462516e-16*gamma_2 + 0.707106781186547*gamma_3\n",
        "v=(z+t)/sqrt(2)=0.707106781186547*gamma_0 + 0.707106781186547*gamma_3\tR*u*Rbar=0.707106781186547*gamma_0 + 0.707106781186547*gamma_3\n",
        "v=(z+x)/sqrt(2)=0.707106781186547*gamma_1 + 0.707106781186547*gamma_3\tR*u*Rbar=1.11022302462516e-16*gamma_1 + 0.707106781186547*gamma_2 + 0.707106781186547*gamma_3\n",
        "v=(z+y)/sqrt(2)=0.707106781186547*gamma_2 + 0.707106781186547*gamma_3\tR*u*Rbar= - 0.707106781186547*gamma_1 + 1.11022302462516e-16*gamma_2 + 0.707106781186547*gamma_3\n",
        "v=(z+z)/sqrt(2)=1.41421356237309*gamma_3\tR*u*Rbar=1.41421356237309*gamma_3\n"
       ]
      }
     ],
     "prompt_number": 7
    },
    {
     "cell_type": "markdown",
     "metadata": {},
     "source": [
      "These all look fine to me."
     ]
    },
    {
     "cell_type": "code",
     "collapsed": false,
     "input": [
      "for v in [t,x,y,z]:\n",
      "    print(spacetime.norm(v))\n",
      "    print(spacetime.norm2(v))"
     ],
     "language": "python",
     "metadata": {},
     "outputs": [
      {
       "output_type": "stream",
       "stream": "stdout",
       "text": [
        " 1\n",
        " -  1\n",
        " 1\n",
        " 1\n",
        " 1\n",
        " 1\n",
        " 1\n",
        " 1\n"
       ]
      }
     ],
     "prompt_number": 8
    },
    {
     "cell_type": "code",
     "collapsed": false,
     "input": [
      "beta = 0.5\n",
      "alpha = arctanh(beta)\n",
      "gamma = 1./sqrt(1-beta**2)\n",
      "B = spacetime.mv();\n",
      "B.set_gamma_0_gamma_3(alpha/2.)\n",
      "R = spacetime.exp(-B)\n",
      "print(B)\n",
      "print(R)"
     ],
     "language": "python",
     "metadata": {},
     "outputs": [
      {
       "output_type": "stream",
       "stream": "stdout",
       "text": [
        "0.274653072167027*gamma_0^gamma_3\n",
        "1.03795484930204 - 0.27811916365045*gamma_0^gamma_3\n"
       ]
      }
     ],
     "prompt_number": 9
    },
    {
     "cell_type": "code",
     "collapsed": false,
     "input": [
      "alpha"
     ],
     "language": "python",
     "metadata": {},
     "outputs": [
      {
       "metadata": {},
       "output_type": "pyout",
       "prompt_number": 10,
       "text": [
        "0.54930614433405489"
       ]
      }
     ],
     "prompt_number": 10
    },
    {
     "cell_type": "code",
     "collapsed": false,
     "input": [
      "cosh(-alpha/2.),sinh(-alpha/2.)"
     ],
     "language": "python",
     "metadata": {},
     "outputs": [
      {
       "metadata": {},
       "output_type": "pyout",
       "prompt_number": 11,
       "text": [
        "(1.0379548493020425, -0.27811916365044997)"
       ]
      }
     ],
     "prompt_number": 11
    },
    {
     "cell_type": "code",
     "collapsed": false,
     "input": [
      "I = spacetime.mv()\n",
      "I.set_gamma_0_gamma_1_gamma_2_gamma_3(1.0)\n",
      "print(exp(1.j))\n",
      "print(spacetime.exp(I))\n",
      "print(exp(1.j*pi/4.))\n",
      "print(spacetime.exp(I*pi/4.))"
     ],
     "language": "python",
     "metadata": {},
     "outputs": [
      {
       "output_type": "stream",
       "stream": "stdout",
       "text": [
        "(0.540302305868+0.841470984808j)\n",
        "0.54030230586814 + 0.841470984807897*gamma_0^gamma_1^gamma_2^gamma_3\n",
        "(0.707106781187+0.707106781187j)\n",
        "0.707106781186548 + 0.707106781186547*gamma_0^gamma_1^gamma_2^gamma_3\n"
       ]
      }
     ],
     "prompt_number": 12
    },
    {
     "cell_type": "code",
     "collapsed": false,
     "input": [
      "tmp = spacetime.mv()\n",
      "tmp.set_scalar(1.0/sqrt(2)).set_gamma_0_gamma_1_gamma_2_gamma_3(1.0/sqrt(2))\n",
      "print(tmp)\n",
      "print(exp(1./sqrt(2)+1.j/sqrt(2)))\n",
      "print(spacetime.exp(tmp))"
     ],
     "language": "python",
     "metadata": {},
     "outputs": [
      {
       "output_type": "stream",
       "stream": "stdout",
       "text": [
        "0.707106781186547 + 0.707106781186547*gamma_0^gamma_1^gamma_2^gamma_3\n",
        "(1.54186345705+1.31753840878j)\n",
        "1.70710678118655 + 0.707106781186547*gamma_0^gamma_1^gamma_2^gamma_3\n"
       ]
      }
     ],
     "prompt_number": 13
    },
    {
     "cell_type": "markdown",
     "metadata": {},
     "source": [
      "That's way wrong...  I don't know what to make of that.  I even tried the \"Euclidean-metric\" version of the exponential."
     ]
    },
    {
     "cell_type": "code",
     "collapsed": false,
     "input": [
      "I*I*I"
     ],
     "language": "python",
     "metadata": {},
     "outputs": [
      {
       "metadata": {},
       "output_type": "pyout",
       "prompt_number": 15,
       "text": [
        " -  1*gamma_0^gamma_1^gamma_2^gamma_3"
       ]
      }
     ],
     "prompt_number": 15
    },
    {
     "cell_type": "code",
     "collapsed": false,
     "input": [
      "tmp*tmp"
     ],
     "language": "python",
     "metadata": {},
     "outputs": [
      {
       "metadata": {},
       "output_type": "pyout",
       "prompt_number": 16,
       "text": [
        " 1*gamma_0^gamma_1^gamma_2^gamma_3"
       ]
      }
     ],
     "prompt_number": 16
    },
    {
     "cell_type": "code",
     "collapsed": false,
     "input": [
      "tmp2= 1./sqrt(2)+1.j/sqrt(2)"
     ],
     "language": "python",
     "metadata": {},
     "outputs": [],
     "prompt_number": 17
    },
    {
     "cell_type": "code",
     "collapsed": false,
     "input": [
      "tmp2*tmp2"
     ],
     "language": "python",
     "metadata": {},
     "outputs": [
      {
       "metadata": {},
       "output_type": "pyout",
       "prompt_number": 18,
       "text": [
        "0.99999999999999978j"
       ]
      }
     ],
     "prompt_number": 18
    },
    {
     "cell_type": "code",
     "collapsed": false,
     "input": [
      "from math import factorial\n",
      "def powtmp(tmp,i):\n",
      "    c=spacetime.mv()\n",
      "    c.set_scalar(1.0)\n",
      "    for i in range(i):\n",
      "        c = c*tmp\n",
      "    return c"
     ],
     "language": "python",
     "metadata": {},
     "outputs": [],
     "prompt_number": 19
    },
    {
     "cell_type": "code",
     "collapsed": false,
     "input": [
      "[powtmp(tmp,i)/factorial(i) for i in range(12)]\n",
      "exptmp = spacetime.mv()\n",
      "for i in range(18):\n",
      "    exptmp = exptmp + powtmp(tmp,i)/factorial(i)\n",
      "exptmp"
     ],
     "language": "python",
     "metadata": {},
     "outputs": [
      {
       "metadata": {},
       "output_type": "pyout",
       "prompt_number": 20,
       "text": [
        "1.54186345704563 + 1.31753840877988*gamma_0^gamma_1^gamma_2^gamma_3"
       ]
      }
     ],
     "prompt_number": 20
    },
    {
     "cell_type": "code",
     "collapsed": false,
     "input": [
      "exp(1./sqrt(2)+1.j/sqrt(2))"
     ],
     "language": "python",
     "metadata": {},
     "outputs": [
      {
       "metadata": {},
       "output_type": "pyout",
       "prompt_number": 21,
       "text": [
        "(1.5418634570456315+1.3175384087798807j)"
       ]
      }
     ],
     "prompt_number": 21
    },
    {
     "cell_type": "code",
     "collapsed": false,
     "input": [
      "tmp*spacetime.reverse(tmp)"
     ],
     "language": "python",
     "metadata": {},
     "outputs": [
      {
       "metadata": {},
       "output_type": "pyout",
       "prompt_number": 22,
       "text": [
        " 1*gamma_0^gamma_1^gamma_2^gamma_3"
       ]
      }
     ],
     "prompt_number": 22
    },
    {
     "cell_type": "code",
     "collapsed": false,
     "input": [
      "I*spacetime.reverse(I)"
     ],
     "language": "python",
     "metadata": {},
     "outputs": [
      {
       "metadata": {},
       "output_type": "pyout",
       "prompt_number": 23,
       "text": [
        " -  1"
       ]
      }
     ],
     "prompt_number": 23
    },
    {
     "cell_type": "code",
     "collapsed": false,
     "input": [
      "spacetime.norm2(x^y)"
     ],
     "language": "python",
     "metadata": {},
     "outputs": [
      {
       "metadata": {},
       "output_type": "pyout",
       "prompt_number": 24,
       "text": [
        " 1"
       ]
      }
     ],
     "prompt_number": 24
    },
    {
     "cell_type": "code",
     "collapsed": false,
     "input": [
      "spacetime.gradeInvolution(I)"
     ],
     "language": "python",
     "metadata": {},
     "outputs": [
      {
       "metadata": {},
       "output_type": "pyout",
       "prompt_number": 27,
       "text": [
        " 1*gamma_0^gamma_1^gamma_2^gamma_3"
       ]
      }
     ],
     "prompt_number": 27
    },
    {
     "cell_type": "markdown",
     "metadata": {},
     "source": [
      "Okay, so exponentials involving the pseudoscalar aren't going to work.  The reason is that the logic Gaigen uses depends on the `norm` and/or `norm2`.  Now, `norm2` is defined as $\\left\\langle X\\, \\tilde{X} \\right\\rangle_0$.  But $I$ is invariant under reversal, whereas any given bivector, for example, is not.  So we can expect different results from the logic.  Of course, the exponential is defined without reference to a reverse, so the results for $I$ and a spatial bivector should actually be identical, except that the bivector should be replaced by the $I$.  But this will not be the case with the code produced by Gaigen."
     ]
    }
   ],
   "metadata": {}
  }
 ]
}